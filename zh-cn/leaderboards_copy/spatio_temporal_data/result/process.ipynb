{
 "cells": [
  {
   "cell_type": "code",
   "execution_count": 1,
   "metadata": {},
   "outputs": [],
   "source": [
    "import pandas as pd"
   ]
  },
  {
   "cell_type": "code",
   "execution_count": 3,
   "metadata": {},
   "outputs": [],
   "source": [
    "rename = {'electricity.csv':'Electricity/Electricity.csv',\n",
    " 'metr-la.csv':'Traffic/METR-LA.csv',\n",
    " 'PEMS03.csv':'Traffic/PEMS03.csv',\n",
    " 'PEMS04.csv':'Traffic/PEMS04.csv',\n",
    " 'PEMS08.csv':'Traffic/PEMS08.csv',\n",
    " 'pems-bay.csv':'Traffic/PEMS-BAY.csv',\n",
    " 'PEMSD7M.csv':'Traffic/PEMSD7M.csv',\n",
    " 'solar_AL.csv':'Energy/Solar.csv'\n",
    " }\n"
   ]
  },
  {
   "cell_type": "code",
   "execution_count": 8,
   "metadata": {},
   "outputs": [],
   "source": [
    "metrics = ['corr','mae','mape','rmse','rse']\n",
    "for metric in metrics:\n",
    "    df = pd.read_csv(f'{metric}.csv')\n",
    "    # df['dataset_name'] = df['dataset_name'].replace(rename)\n",
    "    df.to_csv(f'{metric}.csv',index=False)"
   ]
  }
 ],
 "metadata": {
  "kernelspec": {
   "display_name": "Python 3",
   "language": "python",
   "name": "python3"
  },
  "language_info": {
   "codemirror_mode": {
    "name": "ipython",
    "version": 3
   },
   "file_extension": ".py",
   "mimetype": "text/x-python",
   "name": "python",
   "nbconvert_exporter": "python",
   "pygments_lexer": "ipython3",
   "version": "3.9.6"
  }
 },
 "nbformat": 4,
 "nbformat_minor": 2
}
