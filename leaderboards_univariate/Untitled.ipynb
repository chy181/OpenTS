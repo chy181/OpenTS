{
 "cells": [
  {
   "cell_type": "code",
   "execution_count": 8,
   "id": "13597bbe",
   "metadata": {},
   "outputs": [],
   "source": [
    "def c(s):\n",
    "    s = s.replace('\\n',' ')\n",
    "    r = s.split(' ')\n",
    "    number=[]\n",
    "    for re in r:\n",
    "        if len(re):\n",
    "            number.append(int(re.strip()))\n",
    "    return sum(number)"
   ]
  },
  {
   "cell_type": "code",
   "execution_count": 15,
   "id": "2e714039",
   "metadata": {},
   "outputs": [
    {
     "data": {
      "text/plain": [
       "8033"
      ]
     },
     "execution_count": 15,
     "metadata": {},
     "output_type": "execute_result"
    }
   ],
   "source": [
    "c('''\n",
    "154\n",
    "45\n",
    "128\n",
    "105\n",
    "177\n",
    "67\n",
    "24\n",
    "69 124 214\n",
    "285\n",
    "242\n",
    "66\n",
    "42\n",
    "99\n",
    "197 444 219\n",
    "150 117 180\n",
    "227\n",
    "4\n",
    "139\n",
    "135\n",
    "211\n",
    "20\n",
    "59\n",
    "133 227 337\n",
    "484\n",
    "443\n",
    "12\n",
    "6\n",
    "180\n",
    "732 404 304\n",
    "430 243 155\n",
    "''')"
   ]
  },
  {
   "cell_type": "code",
   "execution_count": null,
   "id": "2aaad967",
   "metadata": {},
   "outputs": [],
   "source": []
  }
 ],
 "metadata": {
  "kernelspec": {
   "display_name": "Python 3 (ipykernel)",
   "language": "python",
   "name": "python3"
  },
  "language_info": {
   "codemirror_mode": {
    "name": "ipython",
    "version": 3
   },
   "file_extension": ".py",
   "mimetype": "text/x-python",
   "name": "python",
   "nbconvert_exporter": "python",
   "pygments_lexer": "ipython3",
   "version": "3.9.7"
  }
 },
 "nbformat": 4,
 "nbformat_minor": 5
}
