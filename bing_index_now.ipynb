{
 "cells": [
  {
   "cell_type": "code",
   "execution_count": 1,
   "metadata": {},
   "outputs": [
    {
     "name": "stdout",
     "output_type": "stream",
     "text": [
      "<Response [200]>\n"
     ]
    }
   ],
   "source": [
    "import requests\n",
    "\n",
    "bing_url = 'https://www.bing.com/indexnow'\n",
    "proxies = {\n",
    "    'http': 'http://127.0.0.1:7890',\n",
    "    'https': 'http://127.0.0.1:7890'\n",
    "}\n",
    "data = {\n",
    "    'host': 'decisionintelligence.github.io',\n",
    "    'key': 'b613253d0eb946a89134fb4e60021e88',\n",
    "    'keyLocation': 'https://decisionintelligence.github.io/OpenTS/b613253d0eb946a89134fb4e60021e88.txt',\n",
    "    'urlList': [\n",
    "        'https://decisionintelligence.github.io/OpenTS/',\n",
    "        'https://decisionintelligence.github.io/OpenTS/get started/',\n",
    "        'https://decisionintelligence.github.io/OpenTS/datasets/',\n",
    "        'https://decisionintelligence.github.io/OpenTS/algorithms/',\n",
    "        'https://decisionintelligence.github.io/OpenTS/leaderboards_univariate/',\n",
    "        'https://decisionintelligence.github.io/OpenTS/leaderboards_multivariate/',\n",
    "        'https://decisionintelligence.github.io/OpenTS/leaderboards_spatio_temporal/',\n",
    "        'https://decisionintelligence.github.io/OpenTS/paper/',\n",
    "        'https://decisionintelligence.github.io/OpenTS/paper/',\n",
    "\n",
    "    ]\n",
    "}\n",
    "\n",
    "res = requests.post(bing_url, data=data,proxies=proxies)\n",
    "print(res)\n",
    "# visit https://www.bing.com/webmasters  for result"
   ]
  }
 ],
 "metadata": {
  "kernelspec": {
   "display_name": "Python 3",
   "language": "python",
   "name": "python3"
  },
  "language_info": {
   "codemirror_mode": {
    "name": "ipython",
    "version": 3
   },
   "file_extension": ".py",
   "mimetype": "text/x-python",
   "name": "python",
   "nbconvert_exporter": "python",
   "pygments_lexer": "ipython3",
   "version": "3.9.6"
  }
 },
 "nbformat": 4,
 "nbformat_minor": 2
}
